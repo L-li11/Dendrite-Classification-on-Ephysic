{
 "cells": [
  {
   "cell_type": "code",
   "execution_count": 1,
   "metadata": {},
   "outputs": [],
   "source": [
    "# package statsmodels not compatible with allensdk, stats test done in env without allensdk\n",
    "import pandas as pd\n",
    "import numpy as np\n",
    "\n",
    "import statsmodels.api as sm\n",
    "from statsmodels.formula.api import ols\n",
    "from statsmodels.stats.multicomp import pairwise_tukeyhsd"
   ]
  },
  {
   "cell_type": "code",
   "execution_count": 2,
   "metadata": {},
   "outputs": [],
   "source": [
    "df_f1 = pd.read_csv('f1.csv')\n",
    "df_acy = pd.read_csv('acy.csv')"
   ]
  },
  {
   "cell_type": "code",
   "execution_count": 3,
   "metadata": {
    "scrolled": true
   },
   "outputs": [
    {
     "name": "stdout",
     "output_type": "stream",
     "text": [
      "            sum_sq     df          F        PR(>F)\n",
      "variable  0.096958    2.0  97.454674  2.880042e-33\n",
      "Residual  0.147743  297.0        NaN           NaN\n"
     ]
    }
   ],
   "source": [
    "mod_one_f1 = ols('value ~ variable', data = df_f1[df_f1['feature_n'] == 40]).fit()\n",
    "print(sm.stats.anova_lm(mod_one_f1, typ=2))"
   ]
  },
  {
   "cell_type": "code",
   "execution_count": 4,
   "metadata": {},
   "outputs": [
    {
     "name": "stdout",
     "output_type": "stream",
     "text": [
      "            sum_sq     df          F        PR(>F)\n",
      "variable  0.051947    2.0  64.175435  6.844706e-24\n",
      "Residual  0.120204  297.0        NaN           NaN\n"
     ]
    }
   ],
   "source": [
    "mod_one_acy = ols('value ~ variable', data = df_acy[df_acy['feature_n'] == 40]).fit()\n",
    "print(sm.stats.anova_lm(mod_one_acy, typ=2))"
   ]
  },
  {
   "cell_type": "code",
   "execution_count": 5,
   "metadata": {
    "scrolled": true
   },
   "outputs": [
    {
     "name": "stdout",
     "output_type": "stream",
     "text": [
      "                            sum_sq     df           F        PR(>F)\n",
      "C(feature_n)              0.004694    2.0    4.957415  7.226248e-03\n",
      "C(variable)               0.238116    2.0  251.495351  2.527795e-87\n",
      "C(feature_n):C(variable)  0.056458    4.0   29.814949  2.658727e-23\n",
      "Residual                  0.421799  891.0         NaN           NaN\n",
      "  Multiple Comparison of Means - Tukey HSD, FWER=0.05   \n",
      "========================================================\n",
      " group1   group2  meandiff p-adj   lower   upper  reject\n",
      "--------------------------------------------------------\n",
      "10.0-knn  10.0-rf   0.0311  0.001  0.0215  0.0406   True\n",
      "10.0-knn 10.0-svm  -0.0166  0.001 -0.0261  -0.007   True\n",
      "10.0-knn 20.0-knn  -0.0195  0.001  -0.029 -0.0099   True\n",
      "10.0-knn  20.0-rf   0.0205  0.001  0.0109  0.0301   True\n",
      "10.0-knn 20.0-svm  -0.0032    0.9 -0.0128  0.0064  False\n",
      "10.0-knn 40.0-knn  -0.0212  0.001 -0.0307 -0.0116   True\n",
      "10.0-knn  40.0-rf   0.0223  0.001  0.0127  0.0319   True\n",
      "10.0-knn 40.0-svm   0.0067 0.4333 -0.0029  0.0162  False\n",
      " 10.0-rf 10.0-svm  -0.0476  0.001 -0.0572  -0.038   True\n",
      " 10.0-rf 20.0-knn  -0.0505  0.001 -0.0601  -0.041   True\n",
      " 10.0-rf  20.0-rf  -0.0106 0.0182 -0.0201  -0.001   True\n",
      " 10.0-rf 20.0-svm  -0.0343  0.001 -0.0438 -0.0247   True\n",
      " 10.0-rf 40.0-knn  -0.0522  0.001 -0.0618 -0.0426   True\n",
      " 10.0-rf  40.0-rf  -0.0087 0.1052 -0.0183  0.0008  False\n",
      " 10.0-rf 40.0-svm  -0.0244  0.001  -0.034 -0.0148   True\n",
      "10.0-svm 20.0-knn  -0.0029    0.9 -0.0125  0.0067  False\n",
      "10.0-svm  20.0-rf   0.0371  0.001  0.0275  0.0466   True\n",
      "10.0-svm 20.0-svm   0.0133  0.001  0.0038  0.0229   True\n",
      "10.0-svm 40.0-knn  -0.0046 0.8416 -0.0142   0.005  False\n",
      "10.0-svm  40.0-rf   0.0389  0.001  0.0293  0.0484   True\n",
      "10.0-svm 40.0-svm   0.0232  0.001  0.0136  0.0328   True\n",
      "20.0-knn  20.0-rf     0.04  0.001  0.0304  0.0495   True\n",
      "20.0-knn 20.0-svm   0.0163  0.001  0.0067  0.0258   True\n",
      "20.0-knn 40.0-knn  -0.0017    0.9 -0.0113  0.0079  False\n",
      "20.0-knn  40.0-rf   0.0418  0.001  0.0322  0.0513   True\n",
      "20.0-knn 40.0-svm   0.0261  0.001  0.0166  0.0357   True\n",
      " 20.0-rf 20.0-svm  -0.0237  0.001 -0.0333 -0.0141   True\n",
      " 20.0-rf 40.0-knn  -0.0417  0.001 -0.0512 -0.0321   True\n",
      " 20.0-rf  40.0-rf   0.0018    0.9 -0.0078  0.0114  False\n",
      " 20.0-rf 40.0-svm  -0.0138  0.001 -0.0234 -0.0043   True\n",
      "20.0-svm 40.0-knn  -0.0179  0.001 -0.0275 -0.0084   True\n",
      "20.0-svm  40.0-rf   0.0255  0.001   0.016  0.0351   True\n",
      "20.0-svm 40.0-svm   0.0099 0.0373  0.0003  0.0194   True\n",
      "40.0-knn  40.0-rf   0.0435  0.001  0.0339   0.053   True\n",
      "40.0-knn 40.0-svm   0.0278  0.001  0.0182  0.0374   True\n",
      " 40.0-rf 40.0-svm  -0.0157  0.001 -0.0252 -0.0061   True\n",
      "--------------------------------------------------------\n"
     ]
    }
   ],
   "source": [
    "model_f1 = ols('value ~ C(feature_n) + C(variable) + C(feature_n):C(variable)', data=df_f1).fit()\n",
    "table_f1 = sm.stats.anova_lm(model_f1, typ=2)\n",
    "print(table_f1)\n",
    "\n",
    "print(pairwise_tukeyhsd(df_f1['value'], np.array(df_f1['feature_n'].apply(str) + '-' + df_f1['variable']), alpha=0.05))"
   ]
  },
  {
   "cell_type": "code",
   "execution_count": 6,
   "metadata": {},
   "outputs": [
    {
     "name": "stdout",
     "output_type": "stream",
     "text": [
      "                            sum_sq     df           F        PR(>F)\n",
      "C(feature_n)              0.005193    2.0    6.420760  1.703739e-03\n",
      "C(variable)               0.114395    2.0  141.438987  4.502890e-54\n",
      "C(feature_n):C(variable)  0.043930    4.0   27.157517  2.728613e-21\n",
      "Residual                  0.360319  891.0         NaN           NaN\n",
      "  Multiple Comparison of Means - Tukey HSD, FWER=0.05   \n",
      "========================================================\n",
      " group1   group2  meandiff p-adj   lower   upper  reject\n",
      "--------------------------------------------------------\n",
      "10.0-knn  10.0-rf   0.0187  0.001  0.0099  0.0276   True\n",
      "10.0-knn 10.0-svm  -0.0177  0.001 -0.0265 -0.0088   True\n",
      "10.0-knn 20.0-knn  -0.0181  0.001  -0.027 -0.0093   True\n",
      "10.0-knn  20.0-rf     0.01 0.0136  0.0012  0.0188   True\n",
      "10.0-knn 20.0-svm  -0.0071 0.2355 -0.0159  0.0017  False\n",
      "10.0-knn 40.0-knn  -0.0182  0.001 -0.0271 -0.0094   True\n",
      "10.0-knn  40.0-rf   0.0131  0.001  0.0043   0.022   True\n",
      "10.0-knn 40.0-svm   0.0039    0.9  -0.005  0.0127  False\n",
      " 10.0-rf 10.0-svm  -0.0364  0.001 -0.0452 -0.0275   True\n",
      " 10.0-rf 20.0-knn  -0.0369  0.001 -0.0457  -0.028   True\n",
      " 10.0-rf  20.0-rf  -0.0087 0.0574 -0.0176  0.0001  False\n",
      " 10.0-rf 20.0-svm  -0.0258  0.001 -0.0346  -0.017   True\n",
      " 10.0-rf 40.0-knn  -0.0369  0.001 -0.0458 -0.0281   True\n",
      " 10.0-rf  40.0-rf  -0.0056 0.5637 -0.0144  0.0033  False\n",
      " 10.0-rf 40.0-svm  -0.0148  0.001 -0.0237  -0.006   True\n",
      "10.0-svm 20.0-knn  -0.0005    0.9 -0.0093  0.0084  False\n",
      "10.0-svm  20.0-rf   0.0277  0.001  0.0188  0.0365   True\n",
      "10.0-svm 20.0-svm   0.0106 0.0067  0.0017  0.0194   True\n",
      "10.0-svm 40.0-knn  -0.0006    0.9 -0.0094  0.0083  False\n",
      "10.0-svm  40.0-rf   0.0308  0.001   0.022  0.0396   True\n",
      "10.0-svm 40.0-svm   0.0215  0.001  0.0127  0.0304   True\n",
      "20.0-knn  20.0-rf   0.0281  0.001  0.0193   0.037   True\n",
      "20.0-knn 20.0-svm    0.011 0.0035  0.0022  0.0199   True\n",
      "20.0-knn 40.0-knn  -0.0001    0.9 -0.0089  0.0088  False\n",
      "20.0-knn  40.0-rf   0.0313  0.001  0.0224  0.0401   True\n",
      "20.0-knn 40.0-svm    0.022  0.001  0.0132  0.0309   True\n",
      " 20.0-rf 20.0-svm  -0.0171  0.001 -0.0259 -0.0083   True\n",
      " 20.0-rf 40.0-knn  -0.0282  0.001 -0.0371 -0.0194   True\n",
      " 20.0-rf  40.0-rf   0.0031    0.9 -0.0057   0.012  False\n",
      " 20.0-rf 40.0-svm  -0.0061 0.4393  -0.015  0.0027  False\n",
      "20.0-svm 40.0-knn  -0.0111 0.0031   -0.02 -0.0023   True\n",
      "20.0-svm  40.0-rf   0.0202  0.001  0.0114  0.0291   True\n",
      "20.0-svm 40.0-svm    0.011 0.0039  0.0021  0.0198   True\n",
      "40.0-knn  40.0-rf   0.0314  0.001  0.0225  0.0402   True\n",
      "40.0-knn 40.0-svm   0.0221  0.001  0.0133  0.0309   True\n",
      " 40.0-rf 40.0-svm  -0.0093 0.0315 -0.0181 -0.0004   True\n",
      "--------------------------------------------------------\n"
     ]
    }
   ],
   "source": [
    "model_acy = ols('value ~ C(feature_n) + C(variable) + C(feature_n):C(variable)', data=df_acy).fit()\n",
    "table_acy = sm.stats.anova_lm(model_acy, typ=2)\n",
    "print(table_acy)\n",
    "\n",
    "print(pairwise_tukeyhsd(df_acy['value'], np.array(df_acy['feature_n'].apply(str) + '-' + df_acy['variable']), alpha=0.05))"
   ]
  },
  {
   "cell_type": "code",
   "execution_count": null,
   "metadata": {},
   "outputs": [],
   "source": []
  }
 ],
 "metadata": {
  "kernelspec": {
   "display_name": "Python 3",
   "language": "python",
   "name": "python3"
  },
  "language_info": {
   "codemirror_mode": {
    "name": "ipython",
    "version": 3
   },
   "file_extension": ".py",
   "mimetype": "text/x-python",
   "name": "python",
   "nbconvert_exporter": "python",
   "pygments_lexer": "ipython3",
   "version": "3.7.4"
  }
 },
 "nbformat": 4,
 "nbformat_minor": 2
}
